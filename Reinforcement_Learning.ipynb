{
 "cells": [
  {
   "cell_type": "markdown",
   "metadata": {},
   "source": [
    "# Deep Q-Learning - Lunar Lander\n",
    "\n",
    "In this assignment, you will train an agent to land a lunar lander safely on a landing pad on the surface of the moon.\n",
    "\n",
    "\n",
    "# Outline\n",
    "- [ 1 - Import Packages <img align=\"Right\" src=\"./images/lunar_lander.gif\" width = 60% >](#1)\n",
    "- [ 2 - Hyperparameters](#2)\n",
    "- [ 3 - The Lunar Lander Environment](#3)\n",
    "  - [ 3.1 Action Space](#3.1)\n",
    "  - [ 3.2 Observation Space](#3.2)\n",
    "  - [ 3.3 Rewards](#3.3)\n",
    "  - [ 3.4 Episode Termination](#3.4)\n",
    "- [ 4 - Load the Environment](#4)\n",
    "- [ 5 - Interacting with the Gym Environment](#5)\n",
    "    - [ 5.1 Exploring the Environment's Dynamics](#5.1)\n",
    "- [ 6 - Deep Q-Learning](#6)\n",
    "  - [ 6.1 Target Network](#6.1)\n",
    "    - [ Exercise 1](#ex01)\n",
    "  - [ 6.2 Experience Replay](#6.2)\n",
    "- [ 7 - Deep Q-Learning Algorithm with Experience Replay](#7)\n",
    "  - [ Exercise 2](#ex02)\n",
    "- [ 8 - Update the Network Weights](#8)\n",
    "- [ 9 - Train the Agent](#9)\n",
    "- [ 10 - See the Trained Agent In Action](#10)\n",
    "- [ 11 - Congratulations!](#11)\n",
    "- [ 12 - References](#12)\n"
   ]
  },
  {
   "cell_type": "markdown",
   "metadata": {},
   "source": [
    "_**NOTE:** To prevent errors from the autograder, you are not allowed to edit or delete non-graded cells in this lab. Please also refrain from adding any new cells. \n",
    "**Once you have passed this assignment** and want to experiment with any of the non-graded code, you may follow the instructions at the bottom of this notebook._"
   ]
  },
  {
   "cell_type": "markdown",
   "metadata": {},
   "source": [
    "<a name=\"1\"></a>\n",
    "## 1 - Import Packages\n",
    "\n",
    "We'll make use of the following packages:\n",
    "- `numpy` is a package for scientific computing in python.\n",
    "- `deque` will be our data structure for our memory buffer.\n",
    "- `namedtuple` will be used to store the experience tuples.\n",
    "- The `gym` toolkit is a collection of environments that can be used to test reinforcement learning algorithms. We should note that in this notebook we are using `gym` version `0.24.0`.\n",
    "- `PIL.Image` and `pyvirtualdisplay` are needed to render the Lunar Lander environment.\n",
    "- We will use several modules from the `tensorflow.keras` framework for building deep learning models.\n",
    "- `utils` is a module that contains helper functions for this assignment. You do not need to modify the code in this file.\n",
    "\n",
    "Run the cell below to import all the necessary packages."
   ]
  },
  {
   "cell_type": "code",
   "execution_count": 52,
   "metadata": {
    "deletable": false,
    "editable": false,
    "id": "KYbOPKRtfQOr"
   },
   "outputs": [],
   "source": [
    "import time\n",
    "from collections import deque, namedtuple\n",
    "\n",
    "import gym\n",
    "import numpy as np\n",
    "import PIL.Image\n",
    "import tensorflow as tf\n",
    "import utils\n",
    "\n",
    "from pyvirtualdisplay import Display\n",
    "from tensorflow.keras import Sequential\n",
    "from tensorflow.keras.layers import Dense, Input\n",
    "from tensorflow.keras.losses import MSE\n",
    "from tensorflow.keras.optimizers import Adam"
   ]
  },
  {
   "cell_type": "code",
   "execution_count": 67,
   "metadata": {
    "deletable": false,
    "editable": false
   },
   "outputs": [],
   "source": [
    "# Set up a virtual display to render the Lunar Lander environment.\n",
    "Display(visible=0, size=(840, 480)).start();\n",
    "\n",
    "# Set the random seed for TensorFlow\n",
    "tf.random.set_seed(utils.SEED)"
   ]
  },
  {
   "cell_type": "markdown",
   "metadata": {},
   "source": [
    "<a name=\"2\"></a>\n",
    "## 2 - Hyperparameters\n",
    "\n",
    "Run the cell below to set the hyperparameters."
   ]
  },
  {
   "cell_type": "code",
   "execution_count": 68,
   "metadata": {
    "deletable": false,
    "editable": false
   },
   "outputs": [],
   "source": [
    "MEMORY_SIZE = 100_000     # size of memory buffer\n",
    "GAMMA = 0.995             # discount factor\n",
    "ALPHA = 1e-3              # learning rate  \n",
    "NUM_STEPS_FOR_UPDATE = 4  # perform a learning update every C time steps"
   ]
  },
  {
   "cell_type": "markdown",
   "metadata": {},
   "source": [
    "<a name=\"3\"></a>\n",
    "## 3 - The Lunar Lander Environment\n",
    "\n",
    "In this notebook we will be using [OpenAI's Gym Library](https://www.gymlibrary.dev/). The Gym library provides a wide variety of environments for reinforcement learning. To put it simply, an environment represents a problem or task to be solved. In this notebook, we will try to solve the Lunar Lander environment using reinforcement learning.\n",
    "\n",
    "The goal of the Lunar Lander environment is to land the lunar lander safely on the landing pad on the surface of the moon. The landing pad is designated by two flag poles and its center is at coordinates `(0,0)` but the lander is also allowed to land outside of the landing pad. The lander starts at the top center of the environment with a random initial force applied to its center of mass and has infinite fuel. The environment is considered solved if you get `200` points. \n",
    "\n",
    "<br>\n",
    "<br>\n",
    "<figure>\n",
    "  <img src = \"images/lunar_lander.gif\" width = 40%>\n",
    "      <figcaption style = \"text-align: center; font-style: italic\">Fig 1. Lunar Lander Environment.</figcaption>\n",
    "</figure>\n",
    "\n",
    "\n",
    "\n",
    "<a name=\"3.1\"></a>\n",
    "### 3.1 Action Space\n",
    "\n",
    "The agent has four discrete actions available:\n",
    "\n",
    "* Do nothing.\n",
    "* Fire right engine.\n",
    "* Fire main engine.\n",
    "* Fire left engine.\n",
    "\n",
    "Each action has a corresponding numerical value:\n",
    "\n",
    "```python\n",
    "Do nothing = 0\n",
    "Fire right engine = 1\n",
    "Fire main engine = 2\n",
    "Fire left engine = 3\n",
    "```\n",
    "\n",
    "<a name=\"3.2\"></a>\n",
    "### 3.2 Observation Space\n",
    "\n",
    "The agent's observation space consists of a state vector with 8 variables:\n",
    "\n",
    "* Its $(x,y)$ coordinates. The landing pad is always at coordinates $(0,0)$.\n",
    "* Its linear velocities $(\\dot x,\\dot y)$.\n",
    "* Its angle $\\theta$.\n",
    "* Its angular velocity $\\dot \\theta$.\n",
    "* Two booleans, $l$ and $r$, that represent whether each leg is in contact with the ground or not.\n",
    "\n",
    "<a name=\"3.3\"></a>\n",
    "### 3.3 Rewards\n",
    "\n",
    "After every step, a reward is granted. The total reward of an episode is the sum of the rewards for all the steps within that episode.\n",
    "\n",
    "For each step, the reward:\n",
    "- is increased/decreased the closer/further the lander is to the landing pad.\n",
    "- is increased/decreased the slower/faster the lander is moving.\n",
    "- is decreased the more the lander is tilted (angle not horizontal).\n",
    "- is increased by 10 points for each leg that is in contact with the ground.\n",
    "- is decreased by 0.03 points each frame a side engine is firing.\n",
    "- is decreased by 0.3 points each frame the main engine is firing.\n",
    "\n",
    "The episode receives an additional reward of -100 or +100 points for crashing or landing safely respectively.\n",
    "\n",
    "<a name=\"3.4\"></a>\n",
    "### 3.4 Episode Termination\n",
    "\n",
    "An episode ends (i.e the environment enters a terminal state) if:\n",
    "\n",
    "* The lunar lander crashes (i.e if the body of the lunar lander comes in contact with the surface of the moon).\n",
    "\n",
    "* The absolute value of the lander's $x$-coordinate is greater than 1 (i.e. it goes beyond the left or right border)\n",
    "\n",
    "You can check out the [Open AI Gym documentation](https://www.gymlibrary.dev/environments/box2d/lunar_lander/) for a full description of the environment. "
   ]
  },
  {
   "cell_type": "markdown",
   "metadata": {},
   "source": [
    "<a name=\"4\"></a>\n",
    "## 4 - Load the Environment\n",
    "\n",
    "We start by loading the `LunarLander-v2` environment from the `gym` library by using the `.make()` method. `LunarLander-v2` is the latest version of the Lunar Lander environment and you can read about its version history in the [Open AI Gym documentation](https://www.gymlibrary.dev/environments/box2d/lunar_lander/#version-history)."
   ]
  },
  {
   "cell_type": "code",
   "execution_count": 69,
   "metadata": {
    "deletable": false,
    "editable": false,
    "id": "ILVMYKewfR0n"
   },
   "outputs": [],
   "source": [
    "env = gym.make('LunarLander-v2')"
   ]
  },
  {
   "cell_type": "markdown",
   "metadata": {},
   "source": [
    "Once we load the environment we use the `.reset()` method to reset the environment to the initial state. The lander starts at the top center of the environment and we can render the first frame of the environment by using the `.render()` method."
   ]
  },
  {
   "cell_type": "code",
   "execution_count": 74,
   "metadata": {
    "deletable": false,
    "editable": false
   },
   "outputs": [
    {
     "data": {
      "image/png": "[encoded data removed]",
      "text/plain": [
       "<PIL.Image.Image image mode=RGB size=600x400 at 0x7F6F9B8F3ED0>"
      ]
     },
     "execution_count": 74,
     "metadata": {},
     "output_type": "execute_result"
    }
   ],
   "source": [
    "env.reset()\n",
    "PIL.Image.fromarray(env.render(mode='rgb_array'))"
   ]
  },
  {
   "cell_type": "markdown",
   "metadata": {},
   "source": [
    "In order to build our neural network later on we need to know the size of the state vector and the number of valid actions. We can get this information from our environment by using the `.observation_space.shape` and `action_space.n` methods, respectively."
   ]
  },
  {
   "cell_type": "code",
   "execution_count": 75,
   "metadata": {
    "deletable": false,
    "editable": false,
    "id": "x3fdqdG4CUu2"
   },
   "outputs": [
    {
     "name": "stdout",
     "output_type": "stream",
     "text": [
      "State Shape: (8,)\n",
      "Number of actions: 4\n"
     ]
    }
   ],
   "source": [
    "state_size = env.observation_space.shape\n",
    "num_actions = env.action_space.n\n",
    "\n",
    "print('State Shape:', state_size)\n",
    "print('Number of actions:', num_actions)"
   ]
  },
  {
   "cell_type": "markdown",
   "metadata": {},
   "source": [
    "<a name=\"5\"></a>\n",
    "## 5 - Interacting with the Gym Environment\n",
    "\n",
    "The Gym library implements the standard “agent-environment loop” formalism:\n",
    "\n",
    "<br>\n",
    "<center>\n",
    "<video src = \"./videos/rl_formalism.m4v\" width=\"840\" height=\"480\" controls autoplay loop poster=\"./images/rl_formalism.png\"> </video>\n",
    "<figcaption style = \"text-align:center; font-style:italic\">Fig 2. Agent-environment Loop Formalism.</figcaption>\n",
    "</center>\n",
    "<br>\n",
    "\n",
    "In the standard “agent-environment loop” formalism, an agent interacts with the environment in discrete time steps $t=0,1,2,...$. At each time step $t$, the agent uses a policy $\\pi$ to select an action $A_t$ based on its observation of the environment's state $S_t$. The agent receives a numerical reward $R_t$ and on the next time step, moves to a new state $S_{t+1}$.\n",
    "\n",
    "<a name=\"5.1\"></a>\n",
    "### 5.1 Exploring the Environment's Dynamics\n",
    "\n",
    "In Open AI's Gym environments, we use the `.step()` method to run a single time step of the environment's dynamics. In the version of `gym` that we are using the `.step()` method accepts an action and returns four values:\n",
    "\n",
    "* `observation` (**object**): an environment-specific object representing your observation of the environment. In the Lunar Lander environment this corresponds to a numpy array containing the positions and velocities of the lander as described in section [3.2 Observation Space](#3.2).\n",
    "\n",
    "\n",
    "* `reward` (**float**): amount of reward returned as a result of taking the given action. In the Lunar Lander environment this corresponds to a float of type `numpy.float64` as described in section [3.3 Rewards](#3.3).\n",
    "\n",
    "\n",
    "* `done` (**boolean**): When done is `True`, it indicates the episode has terminated and it’s time to reset the environment. \n",
    "\n",
    "\n",
    "* `info` (**dictionary**): diagnostic information useful for debugging. We won't be using this variable in this notebook but it is shown here for completeness.\n",
    "\n",
    "To begin an episode, we need to reset the environment to an initial state. We do this by using the `.reset()` method. "
   ]
  },
  {
   "cell_type": "code",
   "execution_count": 76,
   "metadata": {
    "deletable": false,
    "editable": false
   },
   "outputs": [],
   "source": [
    "# Reset the environment and get the initial state.\n",
    "current_state = env.reset()"
   ]
  },
  {
   "cell_type": "markdown",
   "metadata": {},
   "source": [
    "Once the environment is reset, the agent can start taking actions in the environment by using the `.step()` method. Note that the agent can only take one action per time step. \n",
    "\n",
    "In the cell below you can select different actions and see how the returned values change depending on the action taken. Remember that in this environment the agent has four discrete actions available and we specify them in code by using their corresponding numerical value:\n",
    "\n",
    "```python\n",
    "Do nothing = 0\n",
    "Fire right engine = 1\n",
    "Fire main engine = 2\n",
    "Fire left engine = 3\n",
    "```"
   ]
  },
  {
   "cell_type": "code",
   "execution_count": 77,
   "metadata": {
    "deletable": false
   },
   "outputs": [
    {
     "data": {
      "text/html": [
       "<style  type=\"text/css\" >\n",
       "    #T_c9894aac_002a_11ee_b1b8_0242ac12000c th {\n",
       "          border: 1px solid grey;\n",
       "          text-align: center;\n",
       "    }    #T_c9894aac_002a_11ee_b1b8_0242ac12000c tbody td {\n",
       "          border: 1px solid grey;\n",
       "          text-align: center;\n",
       "    }    #T_c9894aac_002a_11ee_b1b8_0242ac12000crow0_col0 {\n",
       "            background-color :  grey;\n",
       "        }    #T_c9894aac_002a_11ee_b1b8_0242ac12000crow1_col1 {\n",
       "            background-color :  grey;\n",
       "        }    #T_c9894aac_002a_11ee_b1b8_0242ac12000crow1_col2 {\n",
       "            background-color :  grey;\n",
       "        }    #T_c9894aac_002a_11ee_b1b8_0242ac12000crow1_col3 {\n",
       "            background-color :  grey;\n",
       "        }    #T_c9894aac_002a_11ee_b1b8_0242ac12000crow1_col4 {\n",
       "            background-color :  grey;\n",
       "        }    #T_c9894aac_002a_11ee_b1b8_0242ac12000crow1_col5 {\n",
       "            background-color :  grey;\n",
       "        }    #T_c9894aac_002a_11ee_b1b8_0242ac12000crow1_col6 {\n",
       "            background-color :  grey;\n",
       "        }    #T_c9894aac_002a_11ee_b1b8_0242ac12000crow1_col7 {\n",
       "            background-color :  grey;\n",
       "        }    #T_c9894aac_002a_11ee_b1b8_0242ac12000crow1_col8 {\n",
       "            background-color :  grey;\n",
       "        }    #T_c9894aac_002a_11ee_b1b8_0242ac12000crow1_col9 {\n",
       "            background-color :  grey;\n",
       "        }    #T_c9894aac_002a_11ee_b1b8_0242ac12000crow1_col10 {\n",
       "            background-color :  grey;\n",
       "        }    #T_c9894aac_002a_11ee_b1b8_0242ac12000crow1_col11 {\n",
       "            background-color :  grey;\n",
       "        }    #T_c9894aac_002a_11ee_b1b8_0242ac12000crow2_col0 {\n",
       "            background-color :  grey;\n",
       "        }    #T_c9894aac_002a_11ee_b1b8_0242ac12000crow3_col1 {\n",
       "            background-color :  grey;\n",
       "        }    #T_c9894aac_002a_11ee_b1b8_0242ac12000crow3_col2 {\n",
       "            background-color :  grey;\n",
       "        }    #T_c9894aac_002a_11ee_b1b8_0242ac12000crow3_col3 {\n",
       "            background-color :  grey;\n",
       "        }    #T_c9894aac_002a_11ee_b1b8_0242ac12000crow3_col4 {\n",
       "            background-color :  grey;\n",
       "        }    #T_c9894aac_002a_11ee_b1b8_0242ac12000crow3_col5 {\n",
       "            background-color :  grey;\n",
       "        }    #T_c9894aac_002a_11ee_b1b8_0242ac12000crow3_col6 {\n",
       "            background-color :  grey;\n",
       "        }    #T_c9894aac_002a_11ee_b1b8_0242ac12000crow3_col7 {\n",
       "            background-color :  grey;\n",
       "        }    #T_c9894aac_002a_11ee_b1b8_0242ac12000crow3_col8 {\n",
       "            background-color :  grey;\n",
       "        }    #T_c9894aac_002a_11ee_b1b8_0242ac12000crow3_col9 {\n",
       "            background-color :  grey;\n",
       "        }    #T_c9894aac_002a_11ee_b1b8_0242ac12000crow3_col10 {\n",
       "            background-color :  grey;\n",
       "        }    #T_c9894aac_002a_11ee_b1b8_0242ac12000crow3_col11 {\n",
       "            background-color :  grey;\n",
       "        }    #T_c9894aac_002a_11ee_b1b8_0242ac12000crow4_col1 {\n",
       "            background-color :  grey;\n",
       "        }    #T_c9894aac_002a_11ee_b1b8_0242ac12000crow4_col2 {\n",
       "            background-color :  grey;\n",
       "        }    #T_c9894aac_002a_11ee_b1b8_0242ac12000crow4_col3 {\n",
       "            background-color :  grey;\n",
       "        }    #T_c9894aac_002a_11ee_b1b8_0242ac12000crow4_col4 {\n",
       "            background-color :  grey;\n",
       "        }    #T_c9894aac_002a_11ee_b1b8_0242ac12000crow4_col5 {\n",
       "            background-color :  grey;\n",
       "        }    #T_c9894aac_002a_11ee_b1b8_0242ac12000crow4_col6 {\n",
       "            background-color :  grey;\n",
       "        }    #T_c9894aac_002a_11ee_b1b8_0242ac12000crow4_col7 {\n",
       "            background-color :  grey;\n",
       "        }    #T_c9894aac_002a_11ee_b1b8_0242ac12000crow4_col8 {\n",
       "            background-color :  grey;\n",
       "        }    #T_c9894aac_002a_11ee_b1b8_0242ac12000crow4_col9 {\n",
       "            background-color :  grey;\n",
       "        }    #T_c9894aac_002a_11ee_b1b8_0242ac12000crow4_col10 {\n",
       "            background-color :  grey;\n",
       "        }    #T_c9894aac_002a_11ee_b1b8_0242ac12000crow4_col11 {\n",
       "            background-color :  grey;\n",
       "        }</style><table id=\"T_c9894aac_002a_11ee_b1b8_0242ac12000c\" ><thead>    <tr>        <th class=\"blank level0\" ></th>        <th class=\"col_heading level0 col0\" ></th>        <th class=\"col_heading level0 col1\" colspan=8>State Vector</th>        <th class=\"col_heading level0 col9\" colspan=3>Derived from the State Vector (the closer to zero, the better)</th>    </tr>    <tr>        <th class=\"blank level1\" ></th>        <th class=\"col_heading level1 col0\" ></th>        <th class=\"col_heading level1 col1\" colspan=2>Coordinate</th>        <th class=\"col_heading level1 col3\" colspan=2>Velocity</th>        <th class=\"col_heading level1 col5\" colspan=2>Tilting</th>        <th class=\"col_heading level1 col7\" colspan=2>Ground contact</th>        <th class=\"col_heading level1 col9\" >Distance from landing pad</th>        <th class=\"col_heading level1 col10\" >Velocity</th>        <th class=\"col_heading level1 col11\" >Tilting Angle (absolute value)</th>    </tr>    <tr>        <th class=\"blank level2\" ></th>        <th class=\"col_heading level2 col0\" ></th>        <th class=\"col_heading level2 col1\" >X (Horizontal)</th>        <th class=\"col_heading level2 col2\" >Y (Vertical)</th>        <th class=\"col_heading level2 col3\" >X (Horizontal)</th>        <th class=\"col_heading level2 col4\" >Y (Vertical)</th>        <th class=\"col_heading level2 col5\" >Angle</th>        <th class=\"col_heading level2 col6\" >Angular Velocity</th>        <th class=\"col_heading level2 col7\" >Left Leg?</th>        <th class=\"col_heading level2 col8\" >Right Leg?</th>        <th class=\"col_heading level2 col9\" ></th>        <th class=\"col_heading level2 col10\" ></th>        <th class=\"col_heading level2 col11\" ></th>    </tr></thead><tbody>\n",
       "                <tr>\n",
       "                        <th id=\"T_c9894aac_002a_11ee_b1b8_0242ac12000clevel0_row0\" class=\"row_heading level0 row0\" >Current State</th>\n",
       "                        <td id=\"T_c9894aac_002a_11ee_b1b8_0242ac12000crow0_col0\" class=\"data row0 col0\" ></td>\n",
       "                        <td id=\"T_c9894aac_002a_11ee_b1b8_0242ac12000crow0_col1\" class=\"data row0 col1\" >0.000840</td>\n",
       "                        <td id=\"T_c9894aac_002a_11ee_b1b8_0242ac12000crow0_col2\" class=\"data row0 col2\" >1.412593</td>\n",
       "                        <td id=\"T_c9894aac_002a_11ee_b1b8_0242ac12000crow0_col3\" class=\"data row0 col3\" >0.085079</td>\n",
       "                        <td id=\"T_c9894aac_002a_11ee_b1b8_0242ac12000crow0_col4\" class=\"data row0 col4\" >0.074350</td>\n",
       "                        <td id=\"T_c9894aac_002a_11ee_b1b8_0242ac12000crow0_col5\" class=\"data row0 col5\" >-0.000967</td>\n",
       "                        <td id=\"T_c9894aac_002a_11ee_b1b8_0242ac12000crow0_col6\" class=\"data row0 col6\" >-0.019272</td>\n",
       "                        <td id=\"T_c9894aac_002a_11ee_b1b8_0242ac12000crow0_col7\" class=\"data row0 col7\" >False</td>\n",
       "                        <td id=\"T_c9894aac_002a_11ee_b1b8_0242ac12000crow0_col8\" class=\"data row0 col8\" >False</td>\n",
       "                        <td id=\"T_c9894aac_002a_11ee_b1b8_0242ac12000crow0_col9\" class=\"data row0 col9\" >1.412593</td>\n",
       "                        <td id=\"T_c9894aac_002a_11ee_b1b8_0242ac12000crow0_col10\" class=\"data row0 col10\" >0.112988</td>\n",
       "                        <td id=\"T_c9894aac_002a_11ee_b1b8_0242ac12000crow0_col11\" class=\"data row0 col11\" >0.000967</td>\n",
       "            </tr>\n",
       "            <tr>\n",
       "                        <th id=\"T_c9894aac_002a_11ee_b1b8_0242ac12000clevel0_row1\" class=\"row_heading level0 row1\" >Action</th>\n",
       "                        <td id=\"T_c9894aac_002a_11ee_b1b8_0242ac12000crow1_col0\" class=\"data row1 col0\" >Do nothing</td>\n",
       "                        <td id=\"T_c9894aac_002a_11ee_b1b8_0242ac12000crow1_col1\" class=\"data row1 col1\" ></td>\n",
       "                        <td id=\"T_c9894aac_002a_11ee_b1b8_0242ac12000crow1_col2\" class=\"data row1 col2\" ></td>\n",
       "                        <td id=\"T_c9894aac_002a_11ee_b1b8_0242ac12000crow1_col3\" class=\"data row1 col3\" ></td>\n",
       "                        <td id=\"T_c9894aac_002a_11ee_b1b8_0242ac12000crow1_col4\" class=\"data row1 col4\" ></td>\n",
       "                        <td id=\"T_c9894aac_002a_11ee_b1b8_0242ac12000crow1_col5\" class=\"data row1 col5\" ></td>\n",
       "                        <td id=\"T_c9894aac_002a_11ee_b1b8_0242ac12000crow1_col6\" class=\"data row1 col6\" ></td>\n",
       "                        <td id=\"T_c9894aac_002a_11ee_b1b8_0242ac12000crow1_col7\" class=\"data row1 col7\" ></td>\n",
       "                        <td id=\"T_c9894aac_002a_11ee_b1b8_0242ac12000crow1_col8\" class=\"data row1 col8\" ></td>\n",
       "                        <td id=\"T_c9894aac_002a_11ee_b1b8_0242ac12000crow1_col9\" class=\"data row1 col9\" ></td>\n",
       "                        <td id=\"T_c9894aac_002a_11ee_b1b8_0242ac12000crow1_col10\" class=\"data row1 col10\" ></td>\n",
       "                        <td id=\"T_c9894aac_002a_11ee_b1b8_0242ac12000crow1_col11\" class=\"data row1 col11\" ></td>\n",
       "            </tr>\n",
       "            <tr>\n",
       "                        <th id=\"T_c9894aac_002a_11ee_b1b8_0242ac12000clevel0_row2\" class=\"row_heading level0 row2\" >Next State</th>\n",
       "                        <td id=\"T_c9894aac_002a_11ee_b1b8_0242ac12000crow2_col0\" class=\"data row2 col0\" ></td>\n",
       "                        <td id=\"T_c9894aac_002a_11ee_b1b8_0242ac12000crow2_col1\" class=\"data row2 col1\" >0.001680</td>\n",
       "                        <td id=\"T_c9894aac_002a_11ee_b1b8_0242ac12000crow2_col2\" class=\"data row2 col2\" >1.413688</td>\n",
       "                        <td id=\"T_c9894aac_002a_11ee_b1b8_0242ac12000crow2_col3\" class=\"data row2 col3\" >0.084964</td>\n",
       "                        <td id=\"T_c9894aac_002a_11ee_b1b8_0242ac12000crow2_col4\" class=\"data row2 col4\" >0.048669</td>\n",
       "                        <td id=\"T_c9894aac_002a_11ee_b1b8_0242ac12000crow2_col5\" class=\"data row2 col5\" >-0.001919</td>\n",
       "                        <td id=\"T_c9894aac_002a_11ee_b1b8_0242ac12000crow2_col6\" class=\"data row2 col6\" >-0.019047</td>\n",
       "                        <td id=\"T_c9894aac_002a_11ee_b1b8_0242ac12000crow2_col7\" class=\"data row2 col7\" >False</td>\n",
       "                        <td id=\"T_c9894aac_002a_11ee_b1b8_0242ac12000crow2_col8\" class=\"data row2 col8\" >False</td>\n",
       "                        <td id=\"T_c9894aac_002a_11ee_b1b8_0242ac12000crow2_col9\" class=\"data row2 col9\" >1.413689</td>\n",
       "                        <td id=\"T_c9894aac_002a_11ee_b1b8_0242ac12000crow2_col10\" class=\"data row2 col10\" >0.097917</td>\n",
       "                        <td id=\"T_c9894aac_002a_11ee_b1b8_0242ac12000crow2_col11\" class=\"data row2 col11\" >0.001919</td>\n",
       "            </tr>\n",
       "            <tr>\n",
       "                        <th id=\"T_c9894aac_002a_11ee_b1b8_0242ac12000clevel0_row3\" class=\"row_heading level0 row3\" >Reward</th>\n",
       "                        <td id=\"T_c9894aac_002a_11ee_b1b8_0242ac12000crow3_col0\" class=\"data row3 col0\" >1.302360</td>\n",
       "                        <td id=\"T_c9894aac_002a_11ee_b1b8_0242ac12000crow3_col1\" class=\"data row3 col1\" ></td>\n",
       "                        <td id=\"T_c9894aac_002a_11ee_b1b8_0242ac12000crow3_col2\" class=\"data row3 col2\" ></td>\n",
       "                        <td id=\"T_c9894aac_002a_11ee_b1b8_0242ac12000crow3_col3\" class=\"data row3 col3\" ></td>\n",
       "                        <td id=\"T_c9894aac_002a_11ee_b1b8_0242ac12000crow3_col4\" class=\"data row3 col4\" ></td>\n",
       "                        <td id=\"T_c9894aac_002a_11ee_b1b8_0242ac12000crow3_col5\" class=\"data row3 col5\" ></td>\n",
       "                        <td id=\"T_c9894aac_002a_11ee_b1b8_0242ac12000crow3_col6\" class=\"data row3 col6\" ></td>\n",
       "                        <td id=\"T_c9894aac_002a_11ee_b1b8_0242ac12000crow3_col7\" class=\"data row3 col7\" ></td>\n",
       "                        <td id=\"T_c9894aac_002a_11ee_b1b8_0242ac12000crow3_col8\" class=\"data row3 col8\" ></td>\n",
       "                        <td id=\"T_c9894aac_002a_11ee_b1b8_0242ac12000crow3_col9\" class=\"data row3 col9\" ></td>\n",
       "                        <td id=\"T_c9894aac_002a_11ee_b1b8_0242ac12000crow3_col10\" class=\"data row3 col10\" ></td>\n",
       "                        <td id=\"T_c9894aac_002a_11ee_b1b8_0242ac12000crow3_col11\" class=\"data row3 col11\" ></td>\n",
       "            </tr>\n",
       "            <tr>\n",
       "                        <th id=\"T_c9894aac_002a_11ee_b1b8_0242ac12000clevel0_row4\" class=\"row_heading level0 row4\" >Episode Terminated</th>\n",
       "                        <td id=\"T_c9894aac_002a_11ee_b1b8_0242ac12000crow4_col0\" class=\"data row4 col0\" >False</td>\n",
       "                        <td id=\"T_c9894aac_002a_11ee_b1b8_0242ac12000crow4_col1\" class=\"data row4 col1\" ></td>\n",
       "                        <td id=\"T_c9894aac_002a_11ee_b1b8_0242ac12000crow4_col2\" class=\"data row4 col2\" ></td>\n",
       "                        <td id=\"T_c9894aac_002a_11ee_b1b8_0242ac12000crow4_col3\" class=\"data row4 col3\" ></td>\n",
       "                        <td id=\"T_c9894aac_002a_11ee_b1b8_0242ac12000crow4_col4\" class=\"data row4 col4\" ></td>\n",
       "                        <td id=\"T_c9894aac_002a_11ee_b1b8_0242ac12000crow4_col5\" class=\"data row4 col5\" ></td>\n",
       "                        <td id=\"T_c9894aac_002a_11ee_b1b8_0242ac12000crow4_col6\" class=\"data row4 col6\" ></td>\n",
       "                        <td id=\"T_c9894aac_002a_11ee_b1b8_0242ac12000crow4_col7\" class=\"data row4 col7\" ></td>\n",
       "                        <td id=\"T_c9894aac_002a_11ee_b1b8_0242ac12000crow4_col8\" class=\"data row4 col8\" ></td>\n",
       "                        <td id=\"T_c9894aac_002a_11ee_b1b8_0242ac12000crow4_col9\" class=\"data row4 col9\" ></td>\n",
       "                        <td id=\"T_c9894aac_002a_11ee_b1b8_0242ac12000crow4_col10\" class=\"data row4 col10\" ></td>\n",
       "                        <td id=\"T_c9894aac_002a_11ee_b1b8_0242ac12000crow4_col11\" class=\"data row4 col11\" ></td>\n",
       "            </tr>\n",
       "    </tbody></table>"
      ],
      "text/plain": [
       "<pandas.io.formats.style.Styler at 0x7f6f9b9d78d0>"
      ]
     },
     "metadata": {},
     "output_type": "display_data"
    }
   ],
   "source": [
    "# Select an action\n",
    "action = 0\n",
    "\n",
    "# Run a single time step of the environment's dynamics with the given action.\n",
    "next_state, reward, done, _ = env.step(action)\n",
    "\n",
    "# Display table with values.\n",
    "utils.display_table(current_state, action, next_state, reward, done)\n",
    "\n",
    "# Replace the `current_state` with the state after the action is taken\n",
    "current_state = next_state"
   ]
  },
  {
   "cell_type": "markdown",
   "metadata": {},
   "source": [
    "In practice, when we train the agent we use a loop to allow the agent to take many consecutive actions during an episode."
   ]
  },
  {
   "cell_type": "markdown",
   "metadata": {},
   "source": [
    "<a name=\"6\"></a>\n",
    "## 6 - Deep Q-Learning\n",
    "\n",
    "In cases where both the state and action space are discrete we can estimate the action-value function iteratively by using the Bellman equation:\n",
    "\n",
    "$$\n",
    "Q_{i+1}(s,a) = R + \\gamma \\max_{a'}Q_i(s',a')\n",
    "$$\n",
    "\n",
    "This iterative method converges to the optimal action-value function $Q^*(s,a)$ as $i\\to\\infty$. This means that the agent just needs to gradually explore the state-action space and keep updating the estimate of $Q(s,a)$ until it converges to the optimal action-value function $Q^*(s,a)$. However, in cases where the state space is continuous it becomes practically impossible to explore the entire state-action space. Consequently, this also makes it practically impossible to gradually estimate $Q(s,a)$ until it converges to $Q^*(s,a)$.\n",
    "\n",
    "In the Deep $Q$-Learning, we solve this problem by using a neural network to estimate the action-value function $Q(s,a)\\approx Q^*(s,a)$. We call this neural network a $Q$-Network and it can be trained by adjusting its weights at each iteration to minimize the mean-squared error in the Bellman equation.\n",
    "\n",
    "Unfortunately, using neural networks in reinforcement learning to estimate action-value functions has proven to be highly unstable. Luckily, there's a couple of techniques that can be employed to avoid instabilities. These techniques consist of using a ***Target Network*** and ***Experience Replay***. We will explore these two techniques in the following sections."
   ]
  },
  {
   "cell_type": "markdown",
   "metadata": {},
   "source": [
    "<a name=\"6.1\"></a>\n",
    "### 6.1 Target Network\n",
    "\n",
    "We can train the $Q$-Network by adjusting it's weights at each iteration to minimize the mean-squared error in the Bellman equation, where the target values are given by:\n",
    "\n",
    "$$\n",
    "y = R + \\gamma \\max_{a'}Q(s',a';w)\n",
    "$$\n",
    "\n",
    "where $w$ are the weights of the $Q$-Network. This means that we are adjusting the weights $w$ at each iteration to minimize the following error:\n",
    "\n",
    "$$\n",
    "\\overbrace{\\underbrace{R + \\gamma \\max_{a'}Q(s',a'; w)}_{\\rm {y~target}} - Q(s,a;w)}^{\\rm {Error}}\n",
    "$$\n",
    "\n",
    "Notice that this forms a problem because the $y$ target is changing on every iteration. Having a constantly moving target can lead to oscillations and instabilities. To avoid this, we can create\n",
    "a separate neural network for generating the $y$ targets. We call this separate neural network the **target $\\hat Q$-Network** and it will have the same architecture as the original $Q$-Network. By using the target $\\hat Q$-Network, the above error becomes:\n",
    "\n",
    "$$\n",
    "\\overbrace{\\underbrace{R + \\gamma \\max_{a'}\\hat{Q}(s',a'; w^-)}_{\\rm {y~target}} - Q(s,a;w)}^{\\rm {Error}}\n",
    "$$\n",
    "\n",
    "where $w^-$ and $w$ are the weights of the target $\\hat Q$-Network and $Q$-Network, respectively.\n",
    "\n",
    "In practice, we will use the following algorithm: every $C$ time steps we will use the $\\hat Q$-Network to generate the $y$ targets and update the weights of the target $\\hat Q$-Network using the weights of the $Q$-Network. We will update the weights $w^-$ of the the target $\\hat Q$-Network using a **soft update**. This means that we will update the weights $w^-$ using the following rule:\n",
    " \n",
    "$$\n",
    "w^-\\leftarrow \\tau w + (1 - \\tau) w^-\n",
    "$$\n",
    "\n",
    "where $\\tau\\ll 1$. By using the soft update, we are ensuring that the target values, $y$, change slowly, which greatly improves the stability of our learning algorithm."
   ]
  },
  {
   "cell_type": "markdown",
   "metadata": {},
   "source": [
    "<a name=\"ex01\"></a>\n",
    "### Exercise 1\n",
    "\n",
    "In this exercise you will create the $Q$ and target $\\hat Q$ networks and set the optimizer. Remember that the Deep $Q$-Network (DQN) is a neural network that approximates the action-value function $Q(s,a)\\approx Q^*(s,a)$. It does this by learning how to map states to $Q$ values.\n",
    "\n",
    "To solve the Lunar Lander environment, we are going to employ a DQN with the following architecture:\n",
    "\n",
    "* An `Input` layer that takes `state_size` as input.\n",
    "\n",
    "* A `Dense` layer with `64` units and a `relu` activation function.\n",
    "\n",
    "* A `Dense` layer with `64` units and a `relu` activation function.\n",
    "\n",
    "* A `Dense` layer with `num_actions` units and a `linear` activation function. This will be the output layer of our network.\n",
    "\n",
    "\n",
    "In the cell below you should create the $Q$-Network and the target $\\hat Q$-Network using the model architecture described above. Remember that both the $Q$-Network and the target $\\hat Q$-Network have the same architecture.\n",
    "\n",
    "Lastly, you should set `Adam` as the optimizer with a learning rate equal to `ALPHA`. Recall that `ALPHA` was defined in the [Hyperparameters](#2) section. We should note that for this exercise you should use the already imported packages:\n",
    "```python\n",
    "from tensorflow.keras.layers import Dense, Input\n",
    "from tensorflow.keras.optimizers import Adam\n",
    "```"
   ]
  },
  {
   "cell_type": "code",
   "execution_count": 78,
   "metadata": {
    "deletable": false
   },
   "outputs": [],
   "source": [
    "# UNQ_C1\n",
    "# GRADED CELL\n",
    "\n",
    "# Create the Q-Network\n",
    "q_network = Sequential([\n",
    "    ### START CODE HERE ### \n",
    "    Input(shape=state_size),\n",
    "    Dense(units=64, activation='relu'),\n",
    "    Dense(units=64, activation='relu'),\n",
    "    Dense(units=num_actions, activation='linear'),  \n",
    "    ### END CODE HERE ### \n",
    "    ])\n",
    "\n",
    "# Create the target Q^-Network\n",
    "target_q_network = Sequential([\n",
    "    ### START CODE HERE ### \n",
    "    Input(shape=state_size),\n",
    "    Dense(units=64, activation='relu'),\n",
    "    Dense(units=64, activation='relu'),\n",
    "    Dense(units=num_actions, activation='linear'), \n",
    "    ### END CODE HERE ###\n",
    "    ])\n",
    "\n",
    "### START CODE HERE ### \n",
    "optimizer = Adam(learning_rate=ALPHA)\n",
    "### END CODE HERE ###"
   ]
  },
  {
   "cell_type": "code",
   "execution_count": 79,
   "metadata": {
    "deletable": false,
    "editable": false
   },
   "outputs": [
    {
     "name": "stdout",
     "output_type": "stream",
     "text": [
      "\u001b[92mAll tests passed!\n",
      "\u001b[92mAll tests passed!\n",
      "\u001b[92mAll tests passed!\n"
     ]
    }
   ],
   "source": [
    "# UNIT TEST\n",
    "from public_tests import *\n",
    "\n",
    "test_network(q_network)\n",
    "test_network(target_q_network)\n",
    "test_optimizer(optimizer, ALPHA) "
   ]
  },
  {
   "cell_type": "markdown",
   "metadata": {},
   "source": [
    "<details>\n",
    "  <summary><font size=\"3\" color=\"darkgreen\"><b>Click for hints</b></font></summary>\n",
    "    \n",
    "```python\n",
    "# Create the Q-Network\n",
    "q_network = Sequential([\n",
    "    Input(shape=state_size),                      \n",
    "    Dense(units=64, activation='relu'),            \n",
    "    Dense(units=64, activation='relu'),            \n",
    "    Dense(units=num_actions, activation='linear'),\n",
    "    ])\n",
    "\n",
    "# Create the target Q^-Network\n",
    "target_q_network = Sequential([\n",
    "    Input(shape=state_size),                       \n",
    "    Dense(units=64, activation='relu'),            \n",
    "    Dense(units=64, activation='relu'),            \n",
    "    Dense(units=num_actions, activation='linear'), \n",
    "    ])\n",
    "\n",
    "optimizer = Adam(learning_rate=ALPHA)                                  \n",
    "``` "
   ]
  },
  {
   "cell_type": "markdown",
   "metadata": {},
   "source": [
    "<a name=\"6.2\"></a>\n",
    "### 6.2 Experience Replay\n",
    "\n",
    "When an agent interacts with the environment, the states, actions, and rewards the agent experiences are sequential by nature. If the agent tries to learn from these consecutive experiences it can run into problems due to the strong correlations between them. To avoid this, we employ a technique known as **Experience Replay** to generate uncorrelated experiences for training our agent. Experience replay consists of storing the agent's experiences (i.e the states, actions, and rewards the agent receives) in a memory buffer and then sampling a random mini-batch of experiences from the buffer to do the learning. The experience tuples $(S_t, A_t, R_t, S_{t+1})$ will be added to the memory buffer at each time step as the agent interacts with the environment.\n",
    "\n",
    "For convenience, we will store the experiences as named tuples."
   ]
  },
  {
   "cell_type": "code",
   "execution_count": 62,
   "metadata": {
    "deletable": false,
    "editable": false
   },
   "outputs": [],
   "source": [
    "# Store experiences as named tuples\n",
    "experience = namedtuple(\"Experience\", field_names=[\"state\", \"action\", \"reward\", \"next_state\", \"done\"])"
   ]
  },
  {
   "cell_type": "markdown",
   "metadata": {},
   "source": [
    "By using experience replay we avoid problematic correlations, oscillations and instabilities. In addition, experience replay also allows the agent to potentially use the same experience in multiple weight updates, which increases data efficiency."
   ]
  },
  {
   "cell_type": "markdown",
   "metadata": {},
   "source": [
    "<a name=\"7\"></a>\n",
    "## 7 - Deep Q-Learning Algorithm with Experience Replay\n",
    "\n",
    "Now that we know all the techniques that we are going to use, we can put them together to arrive at the Deep Q-Learning Algorithm With Experience Replay.\n",
    "<br>\n",
    "<br>\n",
    "<figure>\n",
    "  <img src = \"images/deep_q_algorithm.png\" width = 90% style = \"border: thin silver solid; padding: 0px\">\n",
    "      <figcaption style = \"text-align: center; font-style: italic\">Fig 3. Deep Q-Learning with Experience Replay.</figcaption>\n",
    "</figure>"
   ]
  },
  {
   "cell_type": "markdown",
   "metadata": {},
   "source": [
    "<a name=\"ex02\"></a>\n",
    "### Exercise 2\n",
    "\n",
    "In this exercise you will implement line ***12*** of the algorithm outlined in *Fig 3* above and you will also compute the loss between the $y$ targets and the $Q(s,a)$ values. In the cell below, complete the `compute_loss` function by setting the $y$ targets equal to:\n",
    "\n",
    "$$\n",
    "\\begin{equation}\n",
    "    y_j =\n",
    "    \\begin{cases}\n",
    "      R_j & \\text{if episode terminates at step  } j+1\\\\\n",
    "      R_j + \\gamma \\max_{a'}\\hat{Q}(s_{j+1},a') & \\text{otherwise}\\\\\n",
    "    \\end{cases}       \n",
    "\\end{equation}\n",
    "$$\n",
    "\n",
    "Here are a couple of things to note:\n",
    "\n",
    "* The `compute_loss` function takes in a mini-batch of experience tuples. This mini-batch of experience tuples is unpacked to extract the `states`, `actions`, `rewards`, `next_states`, and `done_vals`. You should keep in mind that these variables are *TensorFlow Tensors* whose size will depend on the mini-batch size. For example, if the mini-batch size is `64` then both `rewards` and `done_vals` will be TensorFlow Tensors with `64` elements.\n",
    "\n",
    "\n",
    "* Using `if/else` statements to set the $y$ targets will not work when the variables are tensors with many elements. However, notice that you can use the `done_vals` to implement the above in a single line of code. To do this, recall that the `done` variable is a Boolean variable that takes the value `True` when an episode terminates at step $j+1$ and it is `False` otherwise. Taking into account that a Boolean value of `True` has the numerical value of `1` and a Boolean value of `False` has the numerical value of `0`, you can use the factor `(1 - done_vals)` to implement the above in a single line of code. Here's a hint: notice that `(1 - done_vals)` has a value of `0` when `done_vals` is `True` and a value of `1` when `done_vals` is `False`. \n",
    "\n",
    "Lastly, compute the loss by calculating the Mean-Squared Error (`MSE`) between the `y_targets` and the `q_values`. To calculate the mean-squared error you should use the already imported package `MSE`:\n",
    "```python\n",
    "from tensorflow.keras.losses import MSE\n",
    "```"
   ]
  },
  {
   "cell_type": "code",
   "execution_count": 82,
   "metadata": {
    "deletable": false
   },
   "outputs": [],
   "source": [
    "# UNQ_C2\n",
    "# GRADED FUNCTION: calculate_loss\n",
    "\n",
    "def compute_loss(experiences, gamma, q_network, target_q_network):\n",
    "    \"\"\" \n",
    "    Calculates the loss.\n",
    "    \n",
    "    Args:\n",
    "      experiences: (tuple) tuple of [\"state\", \"action\", \"reward\", \"next_state\", \"done\"] namedtuples\n",
    "      gamma: (float) The discount factor.\n",
    "      q_network: (tf.keras.Sequential) Keras model for predicting the q_values\n",
    "      target_q_network: (tf.keras.Sequential) Keras model for predicting the targets\n",
    "          \n",
    "    Returns:\n",
    "      loss: (TensorFlow Tensor(shape=(0,), dtype=int32)) the Mean-Squared Error between\n",
    "            the y targets and the Q(s,a) values.\n",
    "    \"\"\"\n",
    "\n",
    "    # Unpack the mini-batch of experience tuples\n",
    "    states, actions, rewards, next_states, done_vals = experiences\n",
    "    \n",
    "    # Compute max Q^(s,a)\n",
    "    max_qsa = tf.reduce_max(target_q_network(next_states), axis=-1)\n",
    "    \n",
    "    # Set y = R if episode terminates, otherwise set y = R + γ max Q^(s,a).\n",
    "    ### START CODE HERE ### \n",
    "    y_targets = rewards + (gamma * max_qsa * (1 - done_vals))\n",
    "    ### END CODE HERE ###\n",
    "    \n",
    "    # Get the q_values and reshape to match y_targets\n",
    "    q_values = q_network(states)\n",
    "    q_values = tf.gather_nd(q_values, tf.stack([tf.range(q_values.shape[0]),\n",
    "                                                tf.cast(actions, tf.int32)], axis=1))\n",
    "        \n",
    "    # Compute the loss\n",
    "    ### START CODE HERE ### \n",
    "    loss = MSE(y_targets, q_values)\n",
    "    ### END CODE HERE ### \n",
    "    \n",
    "    return loss"
   ]
  },
  {
   "cell_type": "code",
   "execution_count": 83,
   "metadata": {
    "deletable": false,
    "editable": false
   },
   "outputs": [
    {
     "name": "stdout",
     "output_type": "stream",
     "text": [
      "\u001b[92mAll tests passed!\n"
     ]
    }
   ],
   "source": [
    "# UNIT TEST    \n",
    "test_compute_loss(compute_loss)"
   ]
  },
  {
   "cell_type": "markdown",
   "metadata": {},
   "source": [
    "<details>\n",
    "  <summary><font size=\"3\" color=\"darkgreen\"><b>Click for hints</b></font></summary>\n",
    "    \n",
    "```python\n",
    "def compute_loss(experiences, gamma, q_network, target_q_network):\n",
    "    \"\"\" \n",
    "    Calculates the loss.\n",
    "    \n",
    "    Args:\n",
    "      experiences: (tuple) tuple of [\"state\", \"action\", \"reward\", \"next_state\", \"done\"] namedtuples\n",
    "      gamma: (float) The discount factor.\n",
    "      q_network: (tf.keras.Sequential) Keras model for predicting the q_values\n",
    "      target_q_network: (tf.keras.Sequential) Keras model for predicting the targets\n",
    "          \n",
    "    Returns:\n",
    "      loss: (TensorFlow Tensor(shape=(0,), dtype=int32)) the Mean-Squared Error between\n",
    "            the y targets and the Q(s,a) values.\n",
    "    \"\"\"\n",
    "\n",
    "    \n",
    "    # Unpack the mini-batch of experience tuples\n",
    "    states, actions, rewards, next_states, done_vals = experiences\n",
    "    \n",
    "    # Compute max Q^(s,a)\n",
    "    max_qsa = tf.reduce_max(target_q_network(next_states), axis=-1)\n",
    "    \n",
    "    # Set y = R if episode terminates, otherwise set y = R + γ max Q^(s,a).\n",
    "    y_targets = rewards + (gamma * max_qsa * (1 - done_vals))\n",
    "    \n",
    "    # Get the q_values\n",
    "    q_values = q_network(states)\n",
    "    q_values = tf.gather_nd(q_values, tf.stack([tf.range(q_values.shape[0]),\n",
    "                                                tf.cast(actions, tf.int32)], axis=1))\n",
    "    \n",
    "    # Calculate the loss\n",
    "    loss = MSE(y_targets, q_values)\n",
    "    \n",
    "    return loss\n",
    "\n",
    "``` \n",
    "    "
   ]
  },
  {
   "cell_type": "markdown",
   "metadata": {},
   "source": [
    "<a name=\"8\"></a>\n",
    "## 8 - Update the Network Weights\n",
    "\n",
    "We will use the `agent_learn` function below to implement lines ***12 -14*** of the algorithm outlined in [Fig 3](#7). The `agent_learn` function will update the weights of the $Q$ and target $\\hat Q$ networks using a custom training loop. Because we are using a custom training loop we need to retrieve the gradients via a `tf.GradientTape` instance, and then call `optimizer.apply_gradients()` to update the weights of our $Q$-Network. Note that we are also using the `@tf.function` decorator to increase performance. Without this decorator our training will take twice as long. If you would like to know more about how to increase performance with `@tf.function` take a look at the [TensorFlow documentation](https://www.tensorflow.org/guide/function).\n",
    "\n",
    "The last line of this function updates the weights of the target $\\hat Q$-Network using a [soft update](#6.1). If you want to know how this is implemented in code we encourage you to take a look at the `utils.update_target_network` function in the `utils` module."
   ]
  },
  {
   "cell_type": "code",
   "execution_count": 84,
   "metadata": {
    "deletable": false,
    "editable": false
   },
   "outputs": [],
   "source": [
    "@tf.function\n",
    "def agent_learn(experiences, gamma):\n",
    "    \"\"\"\n",
    "    Updates the weights of the Q networks.\n",
    "    \n",
    "    Args:\n",
    "      experiences: (tuple) tuple of [\"state\", \"action\", \"reward\", \"next_state\", \"done\"] namedtuples\n",
    "      gamma: (float) The discount factor.\n",
    "    \n",
    "    \"\"\"\n",
    "    \n",
    "    # Calculate the loss\n",
    "    with tf.GradientTape() as tape:\n",
    "        loss = compute_loss(experiences, gamma, q_network, target_q_network)\n",
    "\n",
    "    # Get the gradients of the loss with respect to the weights.\n",
    "    gradients = tape.gradient(loss, q_network.trainable_variables)\n",
    "    \n",
    "    # Update the weights of the q_network.\n",
    "    optimizer.apply_gradients(zip(gradients, q_network.trainable_variables))\n",
    "\n",
    "    # update the weights of target q_network\n",
    "    utils.update_target_network(q_network, target_q_network)"
   ]
  },
  {
   "cell_type": "markdown",
   "metadata": {},
   "source": [
    "<a name=\"9\"></a>\n",
    "## 9 - Train the Agent\n",
    "\n",
    "We are now ready to train our agent to solve the Lunar Lander environment. In the cell below we will implement the algorithm in [Fig 3](#7) line by line (please note that we have included the same algorithm below for easy reference. This will prevent you from scrolling up and down the notebook):\n",
    "\n",
    "* **Line 1**: We initialize the `memory_buffer` with a capacity of $N =$ `MEMORY_SIZE`. Notice that we are using a `deque` as the data structure for our `memory_buffer`.\n",
    "\n",
    "\n",
    "* **Line 2**: We skip this line since we already initialized the `q_network` in [Exercise 1](#ex01).\n",
    "\n",
    "\n",
    "* **Line 3**: We initialize the `target_q_network` by setting its weights to be equal to those of the `q_network`.\n",
    "\n",
    "\n",
    "* **Line 4**: We start the outer loop. Notice that we have set $M =$ `num_episodes = 2000`. This number is reasonable because the agent should be able to solve the Lunar Lander environment in less than `2000` episodes using this notebook's default parameters.\n",
    "\n",
    "\n",
    "* **Line 5**: We use the `.reset()` method to reset the environment to the initial state and get the initial state.\n",
    "\n",
    "\n",
    "* **Line 6**: We start the inner loop. Notice that we have set $T =$ `max_num_timesteps = 1000`. This means that the episode will automatically terminate if the episode hasn't terminated after `1000` time steps.\n",
    "\n",
    "\n",
    "* **Line 7**: The agent observes the current `state` and chooses an `action` using an $\\epsilon$-greedy policy. Our agent starts out using a value of $\\epsilon =$ `epsilon = 1` which yields an $\\epsilon$-greedy policy that is equivalent to the equiprobable random policy. This means that at the beginning of our training, the agent is just going to take random actions regardless of the observed `state`. As training progresses we will decrease the value of $\\epsilon$ slowly towards a minimum value using a given $\\epsilon$-decay rate. We want this minimum value to be close to zero because a value of $\\epsilon = 0$ will yield an $\\epsilon$-greedy policy that is equivalent to the greedy policy. This means that towards the end of training, the agent will lean towards selecting the `action` that it believes (based on its past experiences) will maximize $Q(s,a)$. We will set the minimum $\\epsilon$ value to be `0.01` and not exactly 0 because we always want to keep a little bit of exploration during training. If you want to know how this is implemented in code we encourage you to take a look at the `utils.get_action` function in the `utils` module.\n",
    "\n",
    "\n",
    "* **Line 8**: We use the `.step()` method to take the given `action` in the environment and get the `reward` and the `next_state`. \n",
    "\n",
    "\n",
    "* **Line 9**: We store the `experience(state, action, reward, next_state, done)` tuple in our `memory_buffer`. Notice that we also store the `done` variable so that we can keep track of when an episode terminates. This allowed us to set the $y$ targets in [Exercise 2](#ex02).\n",
    "\n",
    "\n",
    "* **Line 10**: We check if the conditions are met to perform a learning update. We do this by using our custom `utils.check_update_conditions` function. This function checks if $C =$ `NUM_STEPS_FOR_UPDATE = 4` time steps have occured and if our `memory_buffer` has enough experience tuples to fill a mini-batch. For example, if the mini-batch size is `64`, then our `memory_buffer` should have more than `64` experience tuples in order to pass the latter condition. If the conditions are met, then the `utils.check_update_conditions` function will return a value of `True`, otherwise it will return a value of `False`.\n",
    "\n",
    "\n",
    "* **Lines 11 - 14**: If the `update` variable is `True` then we perform a learning update. The learning update consists of sampling a random mini-batch of experience tuples from our `memory_buffer`, setting the $y$ targets, performing gradient descent, and updating the weights of the networks. We will use the `agent_learn` function we defined in [Section 8](#8) to perform the latter 3.\n",
    "\n",
    "\n",
    "* **Line 15**: At the end of each iteration of the inner loop we set `next_state` as our new `state` so that the loop can start again from this new state. In addition, we check if the episode has reached a terminal state (i.e we check if `done = True`). If a terminal state has been reached, then we break out of the inner loop.\n",
    "\n",
    "\n",
    "* **Line 16**: At the end of each iteration of the outer loop we update the value of $\\epsilon$, and check if the environment has been solved. We consider that the environment has been solved if the agent receives an average of `200` points in the last `100` episodes. If the environment has not been solved we continue the outer loop and start a new episode.\n",
    "\n",
    "Finally, we wanted to note that we have included some extra variables to keep track of the total number of points the agent received in each episode. This will help us determine if the agent has solved the environment and it will also allow us to see how our agent performed during training. We also use the `time` module to measure how long the training takes. \n",
    "\n",
    "<br>\n",
    "<br>\n",
    "<figure>\n",
    "  <img src = \"images/deep_q_algorithm.png\" width = 90% style = \"border: thin silver solid; padding: 0px\">\n",
    "      <figcaption style = \"text-align: center; font-style: italic\">Fig 4. Deep Q-Learning with Experience Replay.</figcaption>\n",
    "</figure>\n",
    "<br>\n",
    "\n",
    "**Note:** With this notebook's default parameters, the following cell takes between 10 to 15 minutes to run. "
   ]
  },
  {
   "cell_type": "code",
   "execution_count": 85,
   "metadata": {
    "deletable": false,
    "editable": false
   },
   "outputs": [
    {
     "name": "stdout",
     "output_type": "stream",
     "text": [
      "Episode 100 | Total point average of the last 100 episodes: -153.89\n",
      "Episode 200 | Total point average of the last 100 episodes: -67.834\n",
      "Episode 300 | Total point average of the last 100 episodes: -38.53\n",
      "Episode 400 | Total point average of the last 100 episodes: -12.71\n",
      "Episode 500 | Total point average of the last 100 episodes: 70.097\n",
      "Episode 600 | Total point average of the last 100 episodes: 145.24\n",
      "Episode 657 | Total point average of the last 100 episodes: 200.19\n",
      "\n",
      "Environment solved in 657 episodes!\n",
      "\n",
      "Total Runtime: 862.71 s (14.38 min)\n"
     ]
    }
   ],
   "source": [
    "start = time.time()\n",
    "\n",
    "num_episodes = 2000\n",
    "max_num_timesteps = 1000\n",
    "\n",
    "total_point_history = []\n",
    "\n",
    "num_p_av = 100    # number of total points to use for averaging\n",
    "epsilon = 1.0     # initial ε value for ε-greedy policy\n",
    "\n",
    "# Create a memory buffer D with capacity N\n",
    "memory_buffer = deque(maxlen=MEMORY_SIZE)\n",
    "\n",
    "# Set the target network weights equal to the Q-Network weights\n",
    "target_q_network.set_weights(q_network.get_weights())\n",
    "\n",
    "for i in range(num_episodes):\n",
    "    \n",
    "    # Reset the environment to the initial state and get the initial state\n",
    "    state = env.reset()\n",
    "    total_points = 0\n",
    "    \n",
    "    for t in range(max_num_timesteps):\n",
    "        \n",
    "        # From the current state S choose an action A using an ε-greedy policy\n",
    "        state_qn = np.expand_dims(state, axis=0)  # state needs to be the right shape for the q_network\n",
    "        q_values = q_network(state_qn)\n",
    "        action = utils.get_action(q_values, epsilon)\n",
    "        \n",
    "        # Take action A and receive reward R and the next state S'\n",
    "        next_state, reward, done, _ = env.step(action)\n",
    "        \n",
    "        # Store experience tuple (S,A,R,S') in the memory buffer.\n",
    "        # We store the done variable as well for convenience.\n",
    "        memory_buffer.append(experience(state, action, reward, next_state, done))\n",
    "        \n",
    "        # Only update the network every NUM_STEPS_FOR_UPDATE time steps.\n",
    "        update = utils.check_update_conditions(t, NUM_STEPS_FOR_UPDATE, memory_buffer)\n",
    "        \n",
    "        if update:\n",
    "            # Sample random mini-batch of experience tuples (S,A,R,S') from D\n",
    "            experiences = utils.get_experiences(memory_buffer)\n",
    "            \n",
    "            # Set the y targets, perform a gradient descent step,\n",
    "            # and update the network weights.\n",
    "            agent_learn(experiences, GAMMA)\n",
    "        \n",
    "        state = next_state.copy()\n",
    "        total_points += reward\n",
    "        \n",
    "        if done:\n",
    "            break\n",
    "            \n",
    "    total_point_history.append(total_points)\n",
    "    av_latest_points = np.mean(total_point_history[-num_p_av:])\n",
    "    \n",
    "    # Update the ε value\n",
    "    epsilon = utils.get_new_eps(epsilon)\n",
    "\n",
    "    print(f\"\\rEpisode {i+1} | Total point average of the last {num_p_av} episodes: {av_latest_points:.2f}\", end=\"\")\n",
    "\n",
    "    if (i+1) % num_p_av == 0:\n",
    "        print(f\"\\rEpisode {i+1} | Total point average of the last {num_p_av} episodes: {av_latest_points:.2f}\")\n",
    "\n",
    "    # We will consider that the environment is solved if we get an\n",
    "    # average of 200 points in the last 100 episodes.\n",
    "    if av_latest_points >= 200.0:\n",
    "        print(f\"\\n\\nEnvironment solved in {i+1} episodes!\")\n",
    "        q_network.save('lunar_lander_model.h5')\n",
    "        break\n",
    "        \n",
    "tot_time = time.time() - start\n",
    "\n",
    "print(f\"\\nTotal Runtime: {tot_time:.2f} s ({(tot_time/60):.2f} min)\")"
   ]
  },
  {
   "cell_type": "markdown",
   "metadata": {},
   "source": [
    "We can plot the total point history along with the moving average to see how our agent improved during training. If you want to know about the different plotting options available in the `utils.plot_history` function we encourage you to take a look at the `utils` module."
   ]
  },
  {
   "cell_type": "code",
   "execution_count": 87,
   "metadata": {
    "deletable": false,
    "editable": false,
    "id": "E_EUXxurfe8m",
    "scrolled": false
   },
   "outputs": [
    {
     "data": {
      "image/png": "[encoded data removed]",
      "text/plain": [
       "<Figure size 720x504 with 1 Axes>"
      ]
     },
     "metadata": {},
     "output_type": "display_data"
    }
   ],
   "source": [
    "# Plot the total point history along with the moving average\n",
    "utils.plot_history(total_point_history)"
   ]
  },
  {
   "cell_type": "markdown",
   "metadata": {
    "id": "c_xwgaX5MnYt"
   },
   "source": [
    "<a name=\"10\"></a>\n",
    "## 10 - See the Trained Agent In Action\n",
    "\n",
    "Now that we have trained our agent, we can see it in action. We will use the `utils.create_video` function to create a video of our agent interacting with the environment using the trained $Q$-Network. The `utils.create_video` function uses the `imageio` library to create the video. This library produces some warnings that can be distracting, so, to suppress these warnings we run the code below."
   ]
  },
  {
   "cell_type": "code",
   "execution_count": 88,
   "metadata": {
    "deletable": false,
    "editable": false
   },
   "outputs": [],
   "source": [
    "# Suppress warnings from imageio\n",
    "import logging\n",
    "logging.getLogger().setLevel(logging.ERROR)"
   ]
  },
  {
   "cell_type": "markdown",
   "metadata": {},
   "source": [
    "In the cell below we create a video of our agent interacting with the Lunar Lander environment using the trained `q_network`. The video is saved to the `videos` folder with the given `filename`. We use the `utils.embed_mp4` function to embed the video in the Jupyter Notebook so that we can see it here directly without having to download it.\n",
    "\n",
    "We should note that since the lunar lander starts with a random initial force applied to its center of mass, every time you run the cell below you will see a different video. If the agent was trained properly, it should be able to land the lunar lander in the landing pad every time, regardless of the initial force applied to its center of mass."
   ]
  },
  {
   "cell_type": "code",
   "execution_count": 89,
   "metadata": {
    "deletable": false,
    "editable": false,
    "id": "3Ttb_zLeJKiG"
   },
   "outputs": [
    {
     "data": {
      "text/html": [
       "\n",
       "    <video width=\"840\" height=\"480\" controls>\n",
       "    <source src=\"data:video/mp4;base64,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\" type=\"video/mp4\">\n",
       "    Your browser does not support the video tag.\n",
       "    </video>"
      ],
      "text/plain": [
       "<IPython.core.display.HTML object>"
      ]
     },
     "execution_count": 89,
     "metadata": {},
     "output_type": "execute_result"
    }
   ],
   "source": [
    "filename = \"./videos/lunar_lander.mp4\"\n",
    "\n",
    "utils.create_video(filename, env, q_network)\n",
    "utils.embed_mp4(filename)"
   ]
  },
  {
   "cell_type": "markdown",
   "metadata": {},
   "source": [
    "<a name=\"11\"></a>\n",
    "## 11 - Congratulations!\n",
    "\n",
    "You have successfully used Deep Q-Learning with Experience Replay to train an agent to land a lunar lander safely on a landing pad on the surface of the moon. Congratulations!"
   ]
  },
  {
   "cell_type": "markdown",
   "metadata": {},
   "source": [
    "<a name=\"12\"></a>\n",
    "## 12 - References\n",
    "\n",
    "If you would like to learn more about Deep Q-Learning, we recommend you check out the following papers.\n",
    "\n",
    "\n",
    "* Mnih, V., Kavukcuoglu, K., Silver, D. et al. Human-level control through deep reinforcement learning. Nature 518, 529–533 (2015).\n",
    "\n",
    "\n",
    "* Lillicrap, T. P., Hunt, J. J., Pritzel, A., et al. Continuous Control with Deep Reinforcement Learning. ICLR (2016).\n",
    "\n",
    "\n",
    "* Mnih, V., Kavukcuoglu, K., Silver, D. et al. Playing Atari with Deep Reinforcement Learning. arXiv e-prints.  arXiv:1312.5602 (2013)."
   ]
  },
  {
   "cell_type": "markdown",
   "metadata": {},
   "source": [
    "<details>\n",
    "  <summary><font size=\"2\" color=\"darkgreen\"><b>Please click here if you want to experiment with any of the non-graded code.</b></font></summary>\n",
    "    <p><i><b>Important Note: Please only do this when you've already passed the assignment to avoid problems with the autograder.</b></i>\n",
    "    <ol>\n",
    "        <li> On the notebook’s menu, click “View” > “Cell Toolbar” > “Edit Metadata”</li>\n",
    "        <li> Hit the “Edit Metadata” button next to the code cell which you want to lock/unlock</li>\n",
    "        <li> Set the attribute value for “editable” to:\n",
    "            <ul>\n",
    "                <li> “true” if you want to unlock it </li>\n",
    "                <li> “false” if you want to lock it </li>\n",
    "            </ul>\n",
    "        </li>\n",
    "        <li> On the notebook’s menu, click “View” > “Cell Toolbar” > “None” </li>\n",
    "    </ol>\n",
    "    <p> Here's a short demo of how to do the steps above: \n",
    "        <br>\n",
    "        <img src=\"https://drive.google.com/uc?export=view&id=14Xy_Mb17CZVgzVAgq7NCjMVBvSae3xO1\" align=\"center\" alt=\"unlock_cells.gif\">\n",
    "</details>"
   ]
  }
 ],
 "metadata": {
  "accelerator": "GPU",
  "colab": {
   "collapsed_sections": [],
   "name": "TensorFlow - Lunar Lander.ipynb",
   "provenance": []
  },
  "kernelspec": {
   "display_name": "Python 3",
   "language": "python",
   "name": "python3"
  },
  "language_info": {
   "codemirror_mode": {
    "name": "ipython",
    "version": 3
   },
   "file_extension": ".py",
   "mimetype": "text/x-python",
   "name": "python",
   "nbconvert_exporter": "python",
   "pygments_lexer": "ipython3",
   "version": "3.7.6"
  }
 },
 "nbformat": 4,
 "nbformat_minor": 1
}
